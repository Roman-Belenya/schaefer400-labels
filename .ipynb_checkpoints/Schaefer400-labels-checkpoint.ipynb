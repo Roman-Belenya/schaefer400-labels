{
 "cells": [
  {
   "cell_type": "code",
   "execution_count": null,
   "metadata": {},
   "outputs": [],
   "source": [
    "import numpy as np\n",
    "from scipy import stats\n",
    "import pandas as pd\n",
    "import matplotlib.pyplot as plt\n",
    "\n",
    "from matplotlib.colors import LinearSegmentedColormap\n",
    "from enigmatoolbox.utils import parcel_to_surface\n",
    "from nilearn import datasets, plotting\n",
    "from nilearn.surface import load_surf_mesh"
   ]
  },
  {
   "cell_type": "markdown",
   "metadata": {},
   "source": [
    "# Make Schaefer color map"
   ]
  },
  {
   "cell_type": "code",
   "execution_count": null,
   "metadata": {},
   "outputs": [],
   "source": [
    "cmap = LinearSegmentedColormap.from_list(\n",
    "    name='yeo_7nets',\n",
    "    colors=[\n",
    "        (0, (0, 0, 0)),\n",
    "        (1/7, (120/256, 18/256, 134/256)),\n",
    "        (2/7, (70/256, 130/256, 180/256)),\n",
    "        (3/7, (0/256, 118/256, 14/256)),\n",
    "        (4/7, (196/256, 58/256, 250/256)),\n",
    "        (5/7, (220/256, 248/256, 164/256)),\n",
    "        (6/7, (230/256, 148/256, 34/256)),\n",
    "        (7/7, (205/256, 62/256, 78/256))\n",
    "    ],\n",
    "    N=8\n",
    ")"
   ]
  },
  {
   "cell_type": "code",
   "execution_count": null,
   "metadata": {},
   "outputs": [],
   "source": [
    "from matplotlib.patches import FancyArrowPatch\n",
    "from mpl_toolkits.mplot3d import proj3d\n",
    "    \n",
    "class Arrow3D(FancyArrowPatch):\n",
    "    \n",
    "    def __init__(self, xs, ys, zs, *args, **kwargs):\n",
    "        FancyArrowPatch.__init__(self, (0,0), (0,0), *args, **kwargs)\n",
    "        self._verts3d = xs, ys, zs\n",
    "\n",
    "    def draw(self, renderer):\n",
    "        xs3d, ys3d, zs3d = self._verts3d\n",
    "        xs, ys, zs = proj3d.proj_transform(xs3d, ys3d, zs3d, renderer.M)\n",
    "        self.set_positions((xs[0],ys[0]),(xs[1],ys[1]))\n",
    "        FancyArrowPatch.draw(self, renderer)"
   ]
  },
  {
   "cell_type": "markdown",
   "metadata": {},
   "source": [
    "# Load surface data and ROI info"
   ]
  },
  {
   "cell_type": "code",
   "execution_count": null,
   "metadata": {},
   "outputs": [],
   "source": [
    "fsaverage = datasets.fetch_surf_fsaverage()\n",
    "rois_labels = pd.read_csv('./Schaefer2018_400_7N_order+regions.csv', sep=',')\n",
    "\n",
    "schaefer_tex = parcel_to_surface(np.arange(401), 'schaefer_400_fsa5')\n",
    "schaefer = {hemi:tex for hemi, tex in zip(['left', 'right'], np.split(schaefer_tex, 2))}\n",
    "\n",
    "nets = {net: i+1 for i, net in enumerate(rois_labels.net.unique())}\n",
    "yeo_tex = np.zeros_like(schaefer_tex)\n",
    "for i, roi in enumerate(schaefer_tex):\n",
    "    if roi != 0:\n",
    "        net, = rois_labels.loc[rois_labels.roi == roi, 'net'].values\n",
    "        yeo_tex[i] = nets[net]\n",
    "yeo = {hemi:tex for hemi, tex in zip(['left', 'right'], np.split(yeo_tex, 2))}"
   ]
  },
  {
   "cell_type": "code",
   "execution_count": null,
   "metadata": {},
   "outputs": [],
   "source": [
    "# Load coordinates and faces of fsaverage mesh\n",
    "fs_mesh = {}\n",
    "for hemi in ['left', 'right']:\n",
    "    mesh = load_surf_mesh(fsaverage['infl_'+hemi])\n",
    "    fs_mesh[hemi] = {'coords': mesh[0], 'faces': mesh[1]}"
   ]
  },
  {
   "cell_type": "code",
   "execution_count": null,
   "metadata": {},
   "outputs": [],
   "source": [
    "# Calculate the centroid coordinate for every ROI\n",
    "centroids = {}\n",
    "for hemi in ['left', 'right']:\n",
    "    coords = fs_mesh[hemi]['coords']\n",
    "    centers = pd.DataFrame(coords).assign(roi=schaefer[hemi]).groupby('roi').agg('mean')\n",
    "    centers = centers.loc[centers.index != 0].reset_index() # remove the background roi\n",
    "    roi, x, y, z = centers.T.to_numpy()\n",
    "    centroids[hemi] = {'roi': roi, 'x': x, 'y': y, 'z': z}"
   ]
  },
  {
   "cell_type": "code",
   "execution_count": null,
   "metadata": {},
   "outputs": [],
   "source": [
    "# Make view vectors\n",
    "povs = {\n",
    "    'left': {\n",
    "        'lateral': np.array([-1, 0, 0]),\n",
    "        'medial': np.array([1, 0, 0]),\n",
    "        'dorsal': np.array([0, 0, 1]),\n",
    "        'ventral': np.array([0, 0, -1]),\n",
    "        'anterior': np.array([0, 1, 0]),\n",
    "        'posterior': np.array([0, -1, 0])\n",
    "    },\n",
    "    'right': {\n",
    "        'lateral': np.array([1, 0, 0]),\n",
    "        'medial': np.array([-1, 0, 0]),\n",
    "        'dorsal': np.array([0, 0, 1]),\n",
    "        'ventral': np.array([0, 0, -1]),\n",
    "        'anterior': np.array([0, 1, 0]),\n",
    "        'posterior': np.array([0, -1, 0])\n",
    "    }\n",
    "}"
   ]
  },
  {
   "cell_type": "code",
   "execution_count": null,
   "metadata": {},
   "outputs": [],
   "source": [
    "# Make perpendicular vectors for each ROI and find average for each ROI\n",
    "\n",
    "def roi_norm(coords, faces):\n",
    "    \n",
    "    face_vs = [] # normal vector for each face\n",
    "    face_rois = [] # roi to which that face belongs\n",
    "\n",
    "    for i, j, k in faces:\n",
    "        \n",
    "        p1, p2, p3 = coords[i, :], coords[j, :], coords[k, :] # points that define the face\n",
    "        p12 = p2 - p1 # direction vector from point 1 to point 2\n",
    "        p13 = p3 - p1\n",
    "        \n",
    "        v = np.cross(p12, p13) # perpendicular to two vectors -> perpendicular to the face\n",
    "        face_vs.append(v / np.linalg.norm(v)) \n",
    "\n",
    "        roi1 = schaefer[hemi][np.where(p1 == coords)[0][0]]\n",
    "        roi2 = schaefer[hemi][np.where(p2 == coords)[0][0]]\n",
    "        roi3 = schaefer[hemi][np.where(p3 == coords)[0][0]]\n",
    "        \n",
    "        # find most occuring roi - not very accurate: a point can belong to three rois\n",
    "        face_rois.append(stats.mode([roi1, roi2, roi3])[0][0])\n",
    "\n",
    "    df = pd.DataFrame(face_vs).assign(roi=face_rois).groupby('roi').agg('mean')\n",
    "    df = df.loc[df.index != 0].reset_index()\n",
    "    \n",
    "    return(df.to_numpy())"
   ]
  },
  {
   "cell_type": "code",
   "execution_count": null,
   "metadata": {},
   "outputs": [],
   "source": [
    "# Norms dict contains an average perpendicular vector to each ROI\n",
    "norms = {}\n",
    "\n",
    "for hemi in ['left', 'right']:\n",
    "    data = roi_norm(fs_mesh[hemi]['coords'], fs_mesh[hemi]['faces'])\n",
    "    roi, x, y, z = data.T\n",
    "    norms[hemi] = {'roi': roi, 'v': np.array([x, y, z]).T}"
   ]
  },
  {
   "cell_type": "code",
   "execution_count": null,
   "metadata": {},
   "outputs": [],
   "source": [
    "# Angles between each point of view vector and average ROI norm \n",
    "angles = {}\n",
    "\n",
    "for hemi in ['left', 'right']:\n",
    "    angles[hemi] = {}\n",
    "    for view in ['lateral', 'medial', 'dorsal', 'ventral', 'anterior', 'posterior']:\n",
    "        pov = povs[hemi][view]\n",
    "        norm = norms[hemi]['v']\n",
    "        \n",
    "        ang = np.arccos(np.dot(norm, pov).flatten() / ( np.linalg.norm(norm, axis=1) * np.linalg.norm(pov) ))\n",
    "        ang = np.degrees(ang)\n",
    "        \n",
    "        angles[hemi][view] = ang"
   ]
  },
  {
   "cell_type": "markdown",
   "metadata": {},
   "source": [
    "# Visualize the perpendicular vectors"
   ]
  },
  {
   "cell_type": "code",
   "execution_count": null,
   "metadata": {},
   "outputs": [],
   "source": [
    "hemi = 'left'\n",
    "view = 'lateral'\n",
    "\n",
    "figure = plt.figure(figsize=[7,7])\n",
    "axes = figure.add_axes((0,0,1,1), projection=\"3d\")\n",
    "\n",
    "plotting.plot_surf_roi(fsaverage['infl_'+hemi], yeo[hemi], hemi=hemi, cmap=cmap,\n",
    "                       bg_map=fsaverage['sulc_'+hemi], darkness=0.1, alpha=0.1,\n",
    "                        view=view, bg_on_data=True, figure=figure, axes=axes);\n",
    "\n",
    "roi, x, y, z = centroids[hemi].values()\n",
    "visible = angles[hemi][view] <= 90\n",
    "vectors = norms[hemi]['v']\n",
    "\n",
    "for roi, x, y, z, visible, vec in zip(roi, x, y, z, visible, vectors):\n",
    "    if np.isin(roi, [92, 151]):\n",
    "        color='r'\n",
    "    else:\n",
    "        color='k'\n",
    "        \n",
    "    axes.quiver(x, y, z, vec[0], vec[1], vec[2], length=15, color=color)\n",
    "        \n",
    "pov = povs[hemi][view]\n",
    "axes.view_init(0, 240)"
   ]
  },
  {
   "cell_type": "markdown",
   "metadata": {},
   "source": [
    "# Make brain figures  \n",
    "Does not work so well for dorsal/ventral, anterior/posterior bc of weird angles"
   ]
  },
  {
   "cell_type": "code",
   "execution_count": null,
   "metadata": {},
   "outputs": [],
   "source": [
    "for hemi in ['left', 'right']:\n",
    "    for view in ['lateral', 'medial', 'dorsal', 'ventral', 'anterior', 'posterior']:\n",
    "        \n",
    "        figure = plt.figure(figsize=[7,7], constrained_layout=True)\n",
    "        axes = figure.add_axes((0,0,1,1), projection=\"3d\")\n",
    "        \n",
    "        plotting.plot_surf_roi(fsaverage['infl_'+hemi], yeo[hemi], hemi=hemi,\n",
    "                               bg_map=fsaverage['sulc_'+hemi], cmap=cmap, darkness=0.5,\n",
    "                                view=view, bg_on_data=True, figure=figure, axes=axes);\n",
    "        \n",
    "        plotting.plot_surf_contours(fsaverage['infl_'+hemi], schaefer[hemi],\n",
    "                                    colors=['k']*201, figure=figure, axes=axes);\n",
    "            \n",
    "        roi, x, y, z = centroids[hemi].values()\n",
    "        visible = angles[hemi][view] <= 80\n",
    "        vectors = norms[hemi]['v']\n",
    "        \n",
    "        for roi, x, y, z, visible in zip(roi, x, y, z, visible):\n",
    "            if visible:\n",
    "                roi = int(roi)\n",
    "                axes.text(x, y, z, roi, color='white', fontsize=8,\n",
    "                          verticalalignment='center', horizontalalignment='center',\n",
    "                          multialignment='center', in_layout=True)\n",
    "                \n",
    "#         axes.set_title(hemi + ' ' + view)\n",
    "        \n",
    "        figure.savefig(hemi + '-' + view + '.png', dpi=600, transparent=True)"
   ]
  },
  {
   "cell_type": "code",
   "execution_count": null,
   "metadata": {},
   "outputs": [],
   "source": []
  }
 ],
 "metadata": {
  "kernelspec": {
   "display_name": "PR MCM",
   "language": "python",
   "name": "pr_mcm"
  },
  "language_info": {
   "codemirror_mode": {
    "name": "ipython",
    "version": 3
   },
   "file_extension": ".py",
   "mimetype": "text/x-python",
   "name": "python",
   "nbconvert_exporter": "python",
   "pygments_lexer": "ipython3",
   "version": "3.9.7"
  }
 },
 "nbformat": 4,
 "nbformat_minor": 4
}
